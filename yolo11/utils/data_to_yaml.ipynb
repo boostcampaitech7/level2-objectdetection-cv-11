{
 "cells": [
  {
   "cell_type": "code",
   "execution_count": 29,
   "metadata": {},
   "outputs": [
    {
     "name": "stdout",
     "output_type": "stream",
     "text": [
      "Conversion completed. Labels saved in /data/ephemeral/home/dataset/labels\n"
     ]
    }
   ],
   "source": [
    "import json\n",
    "import os\n",
    "from PIL import Image\n",
    "\n",
    "def convert_bbox(size, box):\n",
    "    dw = 1.0 / size[0]\n",
    "    dh = 1.0 / size[1]\n",
    "    x_min, y_min, width, height = box\n",
    "    x_center = (x_min + (width / 2)) * dw\n",
    "    y_center = (y_min + (height / 2)) * dh\n",
    "    width_normalized = width * dw\n",
    "    height_normalized = height * dh\n",
    "    return (x_center, y_center, width_normalized, height_normalized)\n",
    "\n",
    "def convert_coco_to_yolo(json_file, image_dir, output_dir, original_size=(1024, 1024)):\n",
    "    try:\n",
    "        with open(json_file, 'r') as f:\n",
    "            data = json.load(f)\n",
    "    except FileNotFoundError:\n",
    "        print(f\"Error: JSON file {json_file} not found.\")\n",
    "        return\n",
    "    except json.JSONDecodeError:\n",
    "        print(f\"Error: Invalid JSON format in {json_file}\")\n",
    "        return\n",
    "\n",
    "    if not os.path.exists(output_dir):\n",
    "        os.makedirs(output_dir)\n",
    "\n",
    "    for image_data in data['images']:\n",
    "        image_id = image_data['id']\n",
    "        file_name = image_data['file_name']\n",
    "        img_path = os.path.join(image_dir, file_name)\n",
    "\n",
    "        if not os.path.exists(img_path):\n",
    "            print(f\"Warning: Image {file_name} not found in {image_dir}\")\n",
    "            continue\n",
    "\n",
    "        try:\n",
    "            img = Image.open(img_path)\n",
    "            width, height = img.size\n",
    "        except IOError:\n",
    "            print(f\"Error: Unable to open image {file_name}\")\n",
    "            continue\n",
    "\n",
    "        yolo_bbox_list = []\n",
    "        for ann in data['annotations']:\n",
    "            if ann['image_id'] == image_id:\n",
    "                bbox = ann['bbox']  # [x_min, y_min, width, height]\n",
    "                category_id = ann['category_id']\n",
    "                \n",
    "                # YOLO 포맷으로 변환\n",
    "                yolo_bbox = convert_bbox(original_size, bbox)\n",
    "\n",
    "                # YOLO 모델의 입력 크기에 맞게 조정 (정규화된 값 사용)\n",
    "                yolo_bbox_list.append(f\"{category_id} {' '.join([f'{a:.6f}' for a in yolo_bbox])}\")\n",
    "\n",
    "        # Write YOLO format file\n",
    "        txt_name = os.path.splitext(os.path.basename(file_name))[0] + '.txt'\n",
    "        txt_path = os.path.join(output_dir, txt_name)\n",
    "        os.makedirs(os.path.dirname(txt_path), exist_ok=True)\n",
    "        with open(txt_path, 'w') as f:\n",
    "            f.write('\\n'.join(yolo_bbox_list))\n",
    "\n",
    "    print(f\"Conversion completed. Labels saved in {output_dir}\")\n",
    "\n",
    "# 절대 경로를 사용하여 함수 호출\n",
    "json_file = '/data/ephemeral/home/dataset/train.json'\n",
    "image_dir = '/data/ephemeral/home/dataset/'\n",
    "output_dir = '/data/ephemeral/home/dataset/labels'\n",
    "\n",
    "convert_coco_to_yolo(json_file, image_dir, output_dir, original_size=(1024, 1024))\n"
   ]
  },
  {
   "cell_type": "code",
   "execution_count": null,
   "metadata": {},
   "outputs": [],
   "source": []
  },
  {
   "cell_type": "code",
   "execution_count": null,
   "metadata": {},
   "outputs": [],
   "source": []
  },
  {
   "cell_type": "code",
   "execution_count": null,
   "metadata": {},
   "outputs": [],
   "source": []
  },
  {
   "cell_type": "code",
   "execution_count": null,
   "metadata": {},
   "outputs": [],
   "source": []
  },
  {
   "cell_type": "code",
   "execution_count": null,
   "metadata": {},
   "outputs": [],
   "source": []
  },
  {
   "cell_type": "code",
   "execution_count": null,
   "metadata": {},
   "outputs": [],
   "source": []
  },
  {
   "cell_type": "code",
   "execution_count": null,
   "metadata": {},
   "outputs": [],
   "source": []
  }
 ],
 "metadata": {
  "kernelspec": {
   "display_name": "base",
   "language": "python",
   "name": "python3"
  },
  "language_info": {
   "codemirror_mode": {
    "name": "ipython",
    "version": 3
   },
   "file_extension": ".py",
   "mimetype": "text/x-python",
   "name": "python",
   "nbconvert_exporter": "python",
   "pygments_lexer": "ipython3",
   "version": "3.10.13"
  }
 },
 "nbformat": 4,
 "nbformat_minor": 2
}
