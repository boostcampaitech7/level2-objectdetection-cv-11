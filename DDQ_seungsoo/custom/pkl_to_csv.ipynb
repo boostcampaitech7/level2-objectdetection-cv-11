{
 "cells": [
  {
   "cell_type": "code",
   "execution_count": 113,
   "metadata": {},
   "outputs": [],
   "source": [
    "import pickle\n",
    "import pandas as pd\n",
    "from pandas import DataFrame\n",
    "from pycocotools.coco import COCO\n",
    "import os\n",
    "\n",
    "\n",
    "# pkl 파일을 열고 객체를 불러오는 함수\n",
    "def load_pickle(file_path):\n",
    "    with open(file_path, 'rb') as f:  # 'rb'는 바이너리 읽기 모드\n",
    "        data = pickle.load(f)  # pickle.load를 사용해 파일 내용 불러오기\n",
    "    return data\n",
    "\n",
    "# 예시: 'example.pkl' 파일을 불러오기\n",
    "file_path = '/data/ephemeral/home/mmdetection/result_ddq_final_epoch7.pkl'\n",
    "loaded_data = load_pickle(file_path)"
   ]
  },
  {
   "cell_type": "code",
   "execution_count": 114,
   "metadata": {},
   "outputs": [
    {
     "data": {
      "text/plain": [
       "dict_keys(['scores', 'labels', 'bboxes'])"
      ]
     },
     "execution_count": 114,
     "metadata": {},
     "output_type": "execute_result"
    }
   ],
   "source": [
    "loaded_data[0]['pred_instances'].keys()"
   ]
  },
  {
   "cell_type": "code",
   "execution_count": 115,
   "metadata": {},
   "outputs": [
    {
     "name": "stdout",
     "output_type": "stream",
     "text": [
      "loading annotations into memory...\n",
      "Done (t=0.01s)\n",
      "creating index...\n",
      "index created!\n"
     ]
    },
    {
     "data": {
      "text/html": [
       "<div>\n",
       "<style scoped>\n",
       "    .dataframe tbody tr th:only-of-type {\n",
       "        vertical-align: middle;\n",
       "    }\n",
       "\n",
       "    .dataframe tbody tr th {\n",
       "        vertical-align: top;\n",
       "    }\n",
       "\n",
       "    .dataframe thead th {\n",
       "        text-align: right;\n",
       "    }\n",
       "</style>\n",
       "<table border=\"1\" class=\"dataframe\">\n",
       "  <thead>\n",
       "    <tr style=\"text-align: right;\">\n",
       "      <th></th>\n",
       "      <th>PredictionString</th>\n",
       "      <th>image_id</th>\n",
       "    </tr>\n",
       "  </thead>\n",
       "  <tbody>\n",
       "    <tr>\n",
       "      <th>0</th>\n",
       "      <td>7 0.8813168406486511 118.19282531738281 424.30...</td>\n",
       "      <td>test/0000.jpg</td>\n",
       "    </tr>\n",
       "    <tr>\n",
       "      <th>1</th>\n",
       "      <td>4 0.8049694299697876 343.3912353515625 250.294...</td>\n",
       "      <td>test/0001.jpg</td>\n",
       "    </tr>\n",
       "    <tr>\n",
       "      <th>2</th>\n",
       "      <td>1 0.7723322510719299 301.8743591308594 317.855...</td>\n",
       "      <td>test/0002.jpg</td>\n",
       "    </tr>\n",
       "    <tr>\n",
       "      <th>3</th>\n",
       "      <td>9 0.7978998422622681 146.0308837890625 262.569...</td>\n",
       "      <td>test/0003.jpg</td>\n",
       "    </tr>\n",
       "    <tr>\n",
       "      <th>4</th>\n",
       "      <td>1 0.7177478075027466 194.99676513671875 253.65...</td>\n",
       "      <td>test/0004.jpg</td>\n",
       "    </tr>\n",
       "  </tbody>\n",
       "</table>\n",
       "</div>"
      ],
      "text/plain": [
       "                                    PredictionString       image_id\n",
       "0  7 0.8813168406486511 118.19282531738281 424.30...  test/0000.jpg\n",
       "1  4 0.8049694299697876 343.3912353515625 250.294...  test/0001.jpg\n",
       "2  1 0.7723322510719299 301.8743591308594 317.855...  test/0002.jpg\n",
       "3  9 0.7978998422622681 146.0308837890625 262.569...  test/0003.jpg\n",
       "4  1 0.7177478075027466 194.99676513671875 253.65...  test/0004.jpg"
      ]
     },
     "execution_count": 115,
     "metadata": {},
     "output_type": "execute_result"
    }
   ],
   "source": [
    "# submission 양식에 맞게 output 후처리\n",
    "prediction_strings = []\n",
    "file_names = []\n",
    "coco = COCO('../dataset/test.json')\n",
    "img_ids = coco.getImgIds()\n",
    "epoch = 'ddq_tta'\n",
    "work_dir = './work_dirs/ddq_inference/20241021_112244'\n",
    "\n",
    "class_num = 10\n",
    "for i, out in zip(img_ids,loaded_data):\n",
    "    prediction_string = ''\n",
    "    image_info = coco.loadImgs(coco.getImgIds(imgIds=i))[0]\n",
    "    box_num = sum(out['pred_instances']['scores']>0.1)\n",
    "    for o in range(box_num):\n",
    "        score, label, box   = out['pred_instances'].values()\n",
    "        prediction_string += str(label[o].item()) + ' ' + str(score[o].item()) + ' ' + str(box[o][0].item()) + ' ' + str(box[o][1].item()) + ' ' + str(box[o][2].item()) + ' ' + str(box[o][3].item()) + ' '\n",
    "    prediction_strings.append(prediction_string)\n",
    "    file_names.append(image_info['file_name'])\n",
    "\n",
    "\n",
    "submission = pd.DataFrame()\n",
    "submission['PredictionString'] = prediction_strings\n",
    "submission['image_id'] = file_names\n",
    "submission.to_csv(os.path.join(work_dir, f'submission_{epoch}.csv'), index=None)\n",
    "submission.head()"
   ]
  },
  {
   "cell_type": "code",
   "execution_count": 99,
   "metadata": {},
   "outputs": [
    {
     "data": {
      "text/plain": [
       "0       7 0.7335732579231262 606.1556396484375 523.272...\n",
       "1       4 0.7177553772926331 347.1719665527344 253.621...\n",
       "2       1 0.46254557371139526 311.02032470703125 341.2...\n",
       "3       9 0.8191002607345581 149.83074951171875 266.62...\n",
       "4       1 0.6632032990455627 199.39907836914062 260.75...\n",
       "                              ...                        \n",
       "4866    0 0.7160687446594238 295.73150634765625 348.93...\n",
       "4867    3 0.8295949101448059 417.6707763671875 320.705...\n",
       "4868    7 0.49762263894081116 118.4051513671875 467.07...\n",
       "4869    0 0.5557988286018372 25.858369827270508 252.21...\n",
       "4870    4 0.8133053779602051 375.245849609375 208.5416...\n",
       "Name: PredictionString, Length: 4871, dtype: object"
      ]
     },
     "execution_count": 99,
     "metadata": {},
     "output_type": "execute_result"
    }
   ],
   "source": [
    "import pandas as pd\n",
    "import numpy as np\n",
    "\n",
    "csv_file = pd.read_csv('./work_dirs/ddq_inference/20241023_215350/submission_ddq_epoch7_tta.csv')\n",
    "csv_file['PredictionString']"
   ]
  },
  {
   "cell_type": "code",
   "execution_count": 95,
   "metadata": {},
   "outputs": [],
   "source": [
    "def ensemble_threshold(csv_file,threshold=0.3):\n",
    "    threshold_csv = []\n",
    "    for n,i in enumerate(csv_file['PredictionString']):\n",
    "        try:\n",
    "            threshold_csv.append(' '.join(i.split()[:6*sum(np.array(list(map(float,i.split()[1::6])))>threshold)]))\n",
    "        except:\n",
    "            threshold_csv.append([])\n",
    "    csv_file['PredictionString'] = threshold_csv\n",
    "    return csv_file\n",
    "\n",
    "tt = ensemble_threshold(csv_file,0.1)"
   ]
  }
 ],
 "metadata": {
  "kernelspec": {
   "display_name": "base",
   "language": "python",
   "name": "python3"
  },
  "language_info": {
   "codemirror_mode": {
    "name": "ipython",
    "version": 3
   },
   "file_extension": ".py",
   "mimetype": "text/x-python",
   "name": "python",
   "nbconvert_exporter": "python",
   "pygments_lexer": "ipython3",
   "version": "3.10.13"
  }
 },
 "nbformat": 4,
 "nbformat_minor": 4
}
