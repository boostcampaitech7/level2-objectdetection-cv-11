{
 "cells": [
  {
   "cell_type": "markdown",
   "metadata": {},
   "source": [
    "## change general_trash submission"
   ]
  },
  {
   "cell_type": "code",
   "execution_count": 4,
   "metadata": {},
   "outputs": [],
   "source": [
    "import pandas as pd\n",
    "from tqdm import tqdm"
   ]
  },
  {
   "cell_type": "code",
   "execution_count": 20,
   "metadata": {},
   "outputs": [
    {
     "name": "stderr",
     "output_type": "stream",
     "text": [
      "100%|██████████| 4871/4871 [00:00<00:00, 7927.00it/s]\n"
     ]
    },
    {
     "name": "stdout",
     "output_type": "stream",
     "text": [
      "Total 10 annotations were changed to 0.\n"
     ]
    }
   ],
   "source": [
    "csv_file_path = 'submission.csv'\n",
    "\n",
    "df = pd.read_csv(csv_file_path)\n",
    "\n",
    "# 변경된 항목 수를 세기 위한 카운터\n",
    "changed_count = 0\n",
    "\n",
    "# tqdm을 사용하여 진행 상황 표시\n",
    "for index, row in tqdm(df.iterrows(), total=df.shape[0]):\n",
    "    prediction = row['PredictionString'].split()\n",
    "    # PredictionString에서 anno_label 추출 및 확인\n",
    "    anno_labels = prediction[::6]  # 6개 단위로 anno_label이 위치\n",
    "    for i, label in enumerate(anno_labels):\n",
    "        if int(label) >= 10:\n",
    "            prediction[i * 6] = '0'  # anno_label을 0으로 변경\n",
    "            changed_count += 1\n",
    "    # 변경된 PredictionString을 다시 조합\n",
    "    df.at[index, 'PredictionString'] = ' '.join(prediction)\n",
    "\n",
    "# 변경된 CSV 파일 저장\n",
    "df.to_csv('updated_submission.csv', index=False)\n",
    "\n",
    "print(f\"Total {changed_count} annotations were changed to 0.\")\n"
   ]
  }
 ],
 "metadata": {
  "kernelspec": {
   "display_name": "myenv",
   "language": "python",
   "name": "python3"
  },
  "language_info": {
   "codemirror_mode": {
    "name": "ipython",
    "version": 3
   },
   "file_extension": ".py",
   "mimetype": "text/x-python",
   "name": "python",
   "nbconvert_exporter": "python",
   "pygments_lexer": "ipython3",
   "version": "3.10.13"
  }
 },
 "nbformat": 4,
 "nbformat_minor": 2
}
