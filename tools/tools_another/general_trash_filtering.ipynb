{
 "cells": [
  {
   "cell_type": "markdown",
   "metadata": {},
   "source": [
    "## General trash dataset 폴더 생성"
   ]
  },
  {
   "cell_type": "code",
   "execution_count": 7,
   "metadata": {},
   "outputs": [],
   "source": [
    "import os\n",
    "import json\n",
    "from PIL import Image\n",
    "import matplotlib.pyplot as plt\n",
    "from collections import Counter\n",
    "from IPython.display import display\n",
    "import numpy as np\n",
    "from tqdm import tqdm"
   ]
  },
  {
   "cell_type": "code",
   "execution_count": 5,
   "metadata": {},
   "outputs": [],
   "source": [
    "\n",
    "# 기본 경로 및 폴더 이름 설정\n",
    "dataset_path = '../../'\n",
    "dataset_name = 'general_trash_dataset'\n",
    "\n",
    "general_trash_images = 'general_images'\n",
    "\n",
    "os.makedirs(os.path.join(dataset_path, dataset_name, general_trash_images), exist_ok=True)"
   ]
  },
  {
   "cell_type": "markdown",
   "metadata": {},
   "source": [
    "## General Trash bbox crop"
   ]
  },
  {
   "cell_type": "code",
   "execution_count": 6,
   "metadata": {},
   "outputs": [
    {
     "name": "stdout",
     "output_type": "stream",
     "text": [
      "Error cropping image for annotation 5159 : cannot write empty image as JPEG\n"
     ]
    }
   ],
   "source": [
    "\n",
    "# train.json 파일 경로\n",
    "train_path = '../../dataset/train.json'\n",
    "\n",
    "save_folder = '../../general_trash_dataset/general_images'\n",
    "\n",
    "# json 파일 로드\n",
    "with open(train_path, 'r') as file :\n",
    "    data = json.load(file)\n",
    "\n",
    "# general_trash annotation 정보 필터링\n",
    "general_sort = [anno for anno in data['annotations'] if anno['category_id'] == 0]\n",
    "\n",
    "# images 데이터 id를 키로 하는 딕셔너리 변환\n",
    "images_dict = {image['id']: image for image in data['images']}\n",
    "\n",
    "# annotation에 대해 image crop\n",
    "for anno in general_sort :\n",
    "    image_data = images_dict[anno['image_id']]\n",
    "    image_path = '../../dataset/' + image_data['file_name']\n",
    "\n",
    "    with Image.open(image_path) as img :\n",
    "        bbox = anno['bbox']\n",
    "        if bbox[2] <= 0 or bbox[3] <= 0:\n",
    "            print(f\"Invalid bbox size for annotation {anno['id']}. Skipping.\")\n",
    "            continue\n",
    "\n",
    "        try :\n",
    "            cropped_img = img.crop((bbox[0], bbox[1], bbox[0] + bbox[2], bbox[1] + bbox[3]))\n",
    "            cropped_img_path = os.path.join(save_folder, f\"{anno['image_id']}_{anno['id']}.jpg\")\n",
    "            cropped_img.save(cropped_img_path)\n",
    "\n",
    "        except Exception as e :\n",
    "            print(f\"Error cropping image for annotation {anno['id']} : {e}\")"
   ]
  },
  {
   "cell_type": "markdown",
   "metadata": {},
   "source": [
    "## crop된 data 갯수 확인"
   ]
  },
  {
   "cell_type": "code",
   "execution_count": 7,
   "metadata": {},
   "outputs": [
    {
     "name": "stdout",
     "output_type": "stream",
     "text": [
      "Number of image files in '../../general_trash_dataset/general_images' : 3965\n"
     ]
    }
   ],
   "source": [
    "folder_path = '../../general_trash_dataset/general_images'\n",
    "\n",
    "image_extensions = '.jpg'\n",
    "\n",
    "image_count = sum(1 for file in os.listdir(folder_path) if file.endswith(image_extensions))\n",
    "\n",
    "print(f\"Number of image files in '{folder_path}' : {image_count}\")\n",
    "\n",
    "# 5159번 bounding box 이미지 제외하고 전부 crop 후 저장 확인 완료\n",
    "# 5159번 이미지 바운딩박스가 거의 점처럼 찍혀있음, labeling 잘못 된 객체"
   ]
  },
  {
   "cell_type": "markdown",
   "metadata": {},
   "source": [
    "## crop 된 Image의 평균 width, height 계산"
   ]
  },
  {
   "cell_type": "code",
   "execution_count": 8,
   "metadata": {},
   "outputs": [
    {
     "name": "stdout",
     "output_type": "stream",
     "text": [
      "Average Width: 226.3142496847415\n",
      "Average Height: 215.54174022698612\n"
     ]
    }
   ],
   "source": [
    "def compute_avg_dimensions(folder_path):\n",
    "    total_width, total_height = 0, 0\n",
    "    count = 0\n",
    "\n",
    "    for file_name in os.listdir(folder_path):\n",
    "        if file_name.lower().endswith(('.png', '.jpg', '.jpeg', '.tiff', '.bmp', '.gif')):\n",
    "            try:\n",
    "                image_path = os.path.join(folder_path, file_name)\n",
    "                with Image.open(image_path) as img:\n",
    "                    width, height = img.size\n",
    "                    total_width += width\n",
    "                    total_height += height\n",
    "                    count += 1\n",
    "            except IOError:\n",
    "                print(f\"Cannot open {file_name}\")\n",
    "\n",
    "    if count == 0:\n",
    "        return 0, 0\n",
    "\n",
    "    return total_width / count, total_height / count\n",
    "\n",
    "avg_width, avg_height = compute_avg_dimensions(folder_path)\n",
    "print(f\"Average Width: {avg_width}\")\n",
    "print(f\"Average Height: {avg_height}\")"
   ]
  },
  {
   "cell_type": "markdown",
   "metadata": {},
   "source": [
    "## 평균 width x height로 이미지 리사이징"
   ]
  },
  {
   "cell_type": "code",
   "execution_count": 8,
   "metadata": {},
   "outputs": [
    {
     "name": "stderr",
     "output_type": "stream",
     "text": [
      "Resizing images: 100%|██████████| 3965/3965 [00:12<00:00, 324.12it/s]\n"
     ]
    }
   ],
   "source": [
    "def resize_image_with_aspect_ratio(image, output_size, background_color=(0, 0, 0)):\n",
    "    # 원본 이미지의 비율 계산\n",
    "    original_width, original_height = image.size\n",
    "    ratio = min(output_size[0] / original_width, output_size[1] / original_height)\n",
    "\n",
    "    # 새로운 사이즈에 맞게 이미지 리사이징\n",
    "    new_size = (int(original_width * ratio), int(original_height * ratio))\n",
    "    resized_img = image.resize(new_size, Image.Resampling.LANCZOS)\n",
    "\n",
    "    # 새 이미지 생성 및 원본 이미지 붙여넣기\n",
    "    new_img = Image.new(\"RGB\", output_size, background_color)\n",
    "    new_img.paste(resized_img, ((output_size[0] - new_size[0]) // 2, (output_size[1] - new_size[1]) // 2))\n",
    "\n",
    "    return new_img\n",
    "\n",
    "# 크롭된 이미지가 저장된 폴더 경로\n",
    "crop_folder_path = '../../general_trash_dataset/general_images'\n",
    "\n",
    "# 배경색 설정\n",
    "background_color = (0, 0, 0)\n",
    "\n",
    "# 배경색에 따른 폴더명 생성\n",
    "color_name = f\"{background_color[0]}_{background_color[1]}_{background_color[2]}\"\n",
    "resize_folder_path = f'../../general_trash_dataset/general_trash_resize_{color_name}'\n",
    "\n",
    "# 리사이징할 사이즈 (226 x 216)\n",
    "output_size = (226, 216)\n",
    "\n",
    "# 리사이징된 이미지 저장 폴더 생성\n",
    "if not os.path.exists(resize_folder_path):\n",
    "    os.makedirs(resize_folder_path)\n",
    "\n",
    "# 폴더 내의 모든 이미지 파일에 대해 리사이징 수행\n",
    "image_files = os.listdir(crop_folder_path)\n",
    "for file_name in tqdm(image_files, desc=\"Resizing images\"):\n",
    "    if file_name.endswith('.jpg'):\n",
    "        image_path = os.path.join(crop_folder_path, file_name)\n",
    "        with Image.open(image_path) as img:\n",
    "            resized_image = resize_image_with_aspect_ratio(img, output_size, background_color)\n",
    "            resized_image.save(os.path.join(resize_folder_path, file_name))\n"
   ]
  }
 ],
 "metadata": {
  "kernelspec": {
   "display_name": "myenv",
   "language": "python",
   "name": "python3"
  },
  "language_info": {
   "codemirror_mode": {
    "name": "ipython",
    "version": 3
   },
   "file_extension": ".py",
   "mimetype": "text/x-python",
   "name": "python",
   "nbconvert_exporter": "python",
   "pygments_lexer": "ipython3",
   "version": "3.10.13"
  }
 },
 "nbformat": 4,
 "nbformat_minor": 2
}
