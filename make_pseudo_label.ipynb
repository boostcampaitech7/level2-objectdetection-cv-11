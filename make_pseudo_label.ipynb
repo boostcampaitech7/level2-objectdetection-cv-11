{
 "cells": [
  {
   "cell_type": "code",
   "execution_count": 2,
   "metadata": {},
   "outputs": [],
   "source": [
    "import pandas as pd"
   ]
  },
  {
   "cell_type": "code",
   "execution_count": 4,
   "metadata": {},
   "outputs": [
    {
     "data": {
      "text/html": [
       "<div>\n",
       "<style scoped>\n",
       "    .dataframe tbody tr th:only-of-type {\n",
       "        vertical-align: middle;\n",
       "    }\n",
       "\n",
       "    .dataframe tbody tr th {\n",
       "        vertical-align: top;\n",
       "    }\n",
       "\n",
       "    .dataframe thead th {\n",
       "        text-align: right;\n",
       "    }\n",
       "</style>\n",
       "<table border=\"1\" class=\"dataframe\">\n",
       "  <thead>\n",
       "    <tr style=\"text-align: right;\">\n",
       "      <th></th>\n",
       "      <th>PredictionString</th>\n",
       "      <th>image_id</th>\n",
       "    </tr>\n",
       "  </thead>\n",
       "  <tbody>\n",
       "    <tr>\n",
       "      <th>0</th>\n",
       "      <td>0 0.2806036174297333 480.6799621582031 598.149...</td>\n",
       "      <td>test/0000.jpg</td>\n",
       "    </tr>\n",
       "    <tr>\n",
       "      <th>1</th>\n",
       "      <td>0 0.26969292759895325 641.159912109375 648.989...</td>\n",
       "      <td>test/0001.jpg</td>\n",
       "    </tr>\n",
       "    <tr>\n",
       "      <th>2</th>\n",
       "      <td>0 0.5905788540840149 881.4190673828125 466.465...</td>\n",
       "      <td>test/0002.jpg</td>\n",
       "    </tr>\n",
       "    <tr>\n",
       "      <th>3</th>\n",
       "      <td>0 0.09314579516649246 1.475982666015625 0.3366...</td>\n",
       "      <td>test/0003.jpg</td>\n",
       "    </tr>\n",
       "    <tr>\n",
       "      <th>4</th>\n",
       "      <td>0 0.5441678166389465 425.85174560546875 408.90...</td>\n",
       "      <td>test/0004.jpg</td>\n",
       "    </tr>\n",
       "  </tbody>\n",
       "</table>\n",
       "</div>"
      ],
      "text/plain": [
       "                                    PredictionString       image_id\n",
       "0  0 0.2806036174297333 480.6799621582031 598.149...  test/0000.jpg\n",
       "1  0 0.26969292759895325 641.159912109375 648.989...  test/0001.jpg\n",
       "2  0 0.5905788540840149 881.4190673828125 466.465...  test/0002.jpg\n",
       "3  0 0.09314579516649246 1.475982666015625 0.3366...  test/0003.jpg\n",
       "4  0 0.5441678166389465 425.85174560546875 408.90...  test/0004.jpg"
      ]
     },
     "execution_count": 4,
     "metadata": {},
     "output_type": "execute_result"
    }
   ],
   "source": [
    "df = pd.read_csv('/data/ephemeral/home/ay_yolo/swinl_dino_fold_nms.csv')\n",
    "\n",
    "df.head()"
   ]
  },
  {
   "cell_type": "code",
   "execution_count": 5,
   "metadata": {},
   "outputs": [
    {
     "name": "stdout",
     "output_type": "stream",
     "text": [
      "<class 'str'>\n"
     ]
    }
   ],
   "source": [
    "predicts = df['PredictionString']\n",
    "# predicts.head()\n",
    "print(type(predicts[0]))"
   ]
  },
  {
   "cell_type": "code",
   "execution_count": 6,
   "metadata": {},
   "outputs": [
    {
     "name": "stdout",
     "output_type": "stream",
     "text": [
      "0       [0, 0.2806036174297333, 480.6799621582031, 598...\n",
      "1       [0, 0.26969292759895325, 641.159912109375, 648...\n",
      "2       [0, 0.5905788540840149, 881.4190673828125, 466...\n",
      "3       [0, 0.09314579516649246, 1.475982666015625, 0....\n",
      "4       [0, 0.5441678166389465, 425.85174560546875, 40...\n",
      "                              ...                        \n",
      "4866    [0, 0.5651305913925171, 292.9534606933594, 347...\n",
      "4867    [0, 0.30287718772888184, 629.2179565429688, 66...\n",
      "4868    [0, 0.1567777693271637, 546.1527099609375, 538...\n",
      "4869    [0, 0.8905738592147827, 0.483978271484375, 239...\n",
      "4870    [0, 0.11893846094608307, 239.6060791015625, 82...\n",
      "Name: PredictionString, Length: 4871, dtype: object\n"
     ]
    }
   ],
   "source": [
    "for i in range(len(predicts)):\n",
    "    predicts[i] = predicts[i].split()\n",
    "\n",
    "print(predicts)"
   ]
  },
  {
   "cell_type": "code",
   "execution_count": 7,
   "metadata": {},
   "outputs": [],
   "source": [
    "threshold = 0.5\n",
    "\n",
    "for i in range(len(predicts)):\n",
    "    temp=[]\n",
    "    image = predicts[i]\n",
    "    for j in range(1,len(predicts[i])+1,6):\n",
    "        # print(type(image[j]))\n",
    "        if float(image[j]) >= threshold:\n",
    "            for k in range(-1,5,1):\n",
    "                temp.append(image[j+k])\n",
    "    string_temp = ' '.join(temp)\n",
    "    predicts[i] = string_temp"
   ]
  },
  {
   "cell_type": "code",
   "execution_count": 8,
   "metadata": {},
   "outputs": [
    {
     "name": "stdout",
     "output_type": "stream",
     "text": [
      "4871\n"
     ]
    }
   ],
   "source": [
    "print(len(predicts))"
   ]
  },
  {
   "cell_type": "code",
   "execution_count": 9,
   "metadata": {},
   "outputs": [
    {
     "data": {
      "text/html": [
       "<div>\n",
       "<style scoped>\n",
       "    .dataframe tbody tr th:only-of-type {\n",
       "        vertical-align: middle;\n",
       "    }\n",
       "\n",
       "    .dataframe tbody tr th {\n",
       "        vertical-align: top;\n",
       "    }\n",
       "\n",
       "    .dataframe thead th {\n",
       "        text-align: right;\n",
       "    }\n",
       "</style>\n",
       "<table border=\"1\" class=\"dataframe\">\n",
       "  <thead>\n",
       "    <tr style=\"text-align: right;\">\n",
       "      <th></th>\n",
       "      <th>PredictionString</th>\n",
       "      <th>image_id</th>\n",
       "    </tr>\n",
       "  </thead>\n",
       "  <tbody>\n",
       "    <tr>\n",
       "      <th>0</th>\n",
       "      <td>1 0.8696467280387878 564.6475219726562 105.393...</td>\n",
       "      <td>test/0000.jpg</td>\n",
       "    </tr>\n",
       "    <tr>\n",
       "      <th>1</th>\n",
       "      <td>4 0.7968173027038574 343.303466796875 250.2890...</td>\n",
       "      <td>test/0001.jpg</td>\n",
       "    </tr>\n",
       "    <tr>\n",
       "      <th>2</th>\n",
       "      <td>0 0.5905788540840149 881.4190673828125 466.465...</td>\n",
       "      <td>test/0002.jpg</td>\n",
       "    </tr>\n",
       "    <tr>\n",
       "      <th>3</th>\n",
       "      <td>9 0.9233554005622864 144.21945190429688 262.50...</td>\n",
       "      <td>test/0003.jpg</td>\n",
       "    </tr>\n",
       "    <tr>\n",
       "      <th>4</th>\n",
       "      <td>0 0.5441678166389465 425.85174560546875 408.90...</td>\n",
       "      <td>test/0004.jpg</td>\n",
       "    </tr>\n",
       "  </tbody>\n",
       "</table>\n",
       "</div>"
      ],
      "text/plain": [
       "                                    PredictionString       image_id\n",
       "0  1 0.8696467280387878 564.6475219726562 105.393...  test/0000.jpg\n",
       "1  4 0.7968173027038574 343.303466796875 250.2890...  test/0001.jpg\n",
       "2  0 0.5905788540840149 881.4190673828125 466.465...  test/0002.jpg\n",
       "3  9 0.9233554005622864 144.21945190429688 262.50...  test/0003.jpg\n",
       "4  0 0.5441678166389465 425.85174560546875 408.90...  test/0004.jpg"
      ]
     },
     "execution_count": 9,
     "metadata": {},
     "output_type": "execute_result"
    }
   ],
   "source": [
    "df['PredictionString'] = predicts\n",
    "df.head()"
   ]
  },
  {
   "cell_type": "code",
   "execution_count": 10,
   "metadata": {},
   "outputs": [],
   "source": [
    "df.to_csv(\"./pseudo_label_7330.csv\")"
   ]
  },
  {
   "cell_type": "code",
   "execution_count": 11,
   "metadata": {},
   "outputs": [
    {
     "data": {
      "text/plain": [
       "PredictionString                 \n",
       "image_id            test/2577.jpg\n",
       "Name: 2577, dtype: object"
      ]
     },
     "execution_count": 11,
     "metadata": {},
     "output_type": "execute_result"
    }
   ],
   "source": [
    "df.iloc[2577]"
   ]
  },
  {
   "cell_type": "code",
   "execution_count": null,
   "metadata": {},
   "outputs": [],
   "source": []
  }
 ],
 "metadata": {
  "kernelspec": {
   "display_name": "base",
   "language": "python",
   "name": "python3"
  },
  "language_info": {
   "codemirror_mode": {
    "name": "ipython",
    "version": 3
   },
   "file_extension": ".py",
   "mimetype": "text/x-python",
   "name": "python",
   "nbconvert_exporter": "python",
   "pygments_lexer": "ipython3",
   "version": "3.10.13"
  }
 },
 "nbformat": 4,
 "nbformat_minor": 2
}
