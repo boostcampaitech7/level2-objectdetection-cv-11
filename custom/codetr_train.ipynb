{
 "cells": [
  {
   "cell_type": "code",
   "execution_count": 2,
   "metadata": {},
   "outputs": [
    {
     "data": {
      "text/plain": [
       "'1.12.1+cu116'"
      ]
     },
     "execution_count": 2,
     "metadata": {},
     "output_type": "execute_result"
    }
   ],
   "source": [
    "import torch\n",
    "torch.__version__"
   ]
  },
  {
   "cell_type": "code",
   "execution_count": 15,
   "metadata": {},
   "outputs": [],
   "source": [
    "import json\n",
    "\n",
    "with open('/data/ephemeral/home/dataset/train.json') as json_file:\n",
    "    json_data = json.load(json_file)\n"
   ]
  },
  {
   "cell_type": "code",
   "execution_count": 22,
   "metadata": {},
   "outputs": [
    {
     "data": {
      "text/plain": [
       "976"
      ]
     },
     "execution_count": 22,
     "metadata": {},
     "output_type": "execute_result"
    }
   ],
   "source": [
    "import random\n",
    "train_len = len(json_data['images'])\n",
    "samples = random.sample(range(train_len),int(train_len*0.2))\n",
    "len(json_data['images'][:int(train_len*0.2)])\n"
   ]
  },
  {
   "cell_type": "code",
   "execution_count": null,
   "metadata": {},
   "outputs": [],
   "source": []
  },
  {
   "cell_type": "code",
   "execution_count": null,
   "metadata": {},
   "outputs": [],
   "source": []
  },
  {
   "cell_type": "code",
   "execution_count": 4,
   "metadata": {},
   "outputs": [
    {
     "ename": "ImportError",
     "evalue": "cannot import name 'build_dataset' from 'mmdet.datasets' (/data/ephemeral/home/mmdetection/mmdet/datasets/__init__.py)",
     "output_type": "error",
     "traceback": [
      "\u001b[0;31m---------------------------------------------------------------------------\u001b[0m",
      "\u001b[0;31mImportError\u001b[0m                               Traceback (most recent call last)",
      "Cell \u001b[0;32mIn[4], line 4\u001b[0m\n\u001b[1;32m      1\u001b[0m \u001b[38;5;66;03m# 모듈 import\u001b[39;00m\n\u001b[1;32m      3\u001b[0m \u001b[38;5;28;01mfrom\u001b[39;00m \u001b[38;5;21;01mmmcv\u001b[39;00m\u001b[38;5;21;01m.\u001b[39;00m\u001b[38;5;21;01mutils\u001b[39;00m \u001b[38;5;28;01mimport\u001b[39;00m config\n\u001b[0;32m----> 4\u001b[0m \u001b[38;5;28;01mfrom\u001b[39;00m \u001b[38;5;21;01mmmdet\u001b[39;00m\u001b[38;5;21;01m.\u001b[39;00m\u001b[38;5;21;01mdatasets\u001b[39;00m \u001b[38;5;28;01mimport\u001b[39;00m build_dataset\n\u001b[1;32m      5\u001b[0m \u001b[38;5;28;01mfrom\u001b[39;00m \u001b[38;5;21;01m.\u001b[39;00m\u001b[38;5;21;01mcoco\u001b[39;00m \u001b[38;5;28;01mimport\u001b[39;00m CocoDataset\n\u001b[1;32m      6\u001b[0m \u001b[38;5;28;01mfrom\u001b[39;00m \u001b[38;5;21;01mmmdet\u001b[39;00m\u001b[38;5;21;01m.\u001b[39;00m\u001b[38;5;21;01mmodels\u001b[39;00m \u001b[38;5;28;01mimport\u001b[39;00m build_detector\n",
      "\u001b[0;31mImportError\u001b[0m: cannot import name 'build_dataset' from 'mmdet.datasets' (/data/ephemeral/home/mmdetection/mmdet/datasets/__init__.py)"
     ]
    }
   ],
   "source": [
    "# 모듈 import\n",
    "\n",
    "from mmcv.utils import config\n",
    "from mmdet.datasets import build_dataset\n",
    "from .coco import CocoDataset\n",
    "from mmdet.models import build_detector\n",
    "from mmdet.apis import train_detector\n",
    "from mmdet.datasets import (build_dataloader, build_dataset,\n",
    "                            replace_ImageToTensor)\n",
    "from mmdet.utils import get_device"
   ]
  },
  {
   "cell_type": "code",
   "execution_count": null,
   "metadata": {},
   "outputs": [],
   "source": []
  },
  {
   "cell_type": "code",
   "execution_count": 2,
   "metadata": {},
   "outputs": [],
   "source": [
    "classes = (\"General trash\", \"Paper\", \"Paper pack\", \"Metal\", \"Glass\", \n",
    "           \"Plastic\", \"Styrofoam\", \"Plastic bag\", \"Battery\", \"Clothing\")\n",
    "\n",
    "# config file 들고오기\n",
    "cfg = Config.fromfile('./configs/faster_rcnn/faster_rcnn_r50_fpn_1x_coco.py')\n",
    "\n",
    "root='../dataset/'\n",
    "\n",
    "cfg.data_root = root\n",
    "cfg.num_last_epochs = 3\n",
    "cfg.interval = 1\n",
    "# dataset config 수정\n",
    "cfg.data.train.classes = classes\n",
    "cfg.data.train.img_prefix = root\n",
    "cfg.data.train.ann_file = root + 'train.json' # train json 정보\n",
    "\n",
    "cfg.data.test.classes = classes\n",
    "cfg.data.test.img_prefix = root\n",
    "cfg.data.test.ann_file = root + 'test.json' # test json 정보\n",
    "\n",
    "cfg.data.samples_per_gpu = 4\n",
    "\n",
    "cfg.seed = 2022\n",
    "cfg.gpu_ids = [0]\n",
    "cfg.work_dir = './work_dirs/codetr_r50_trash'\n",
    "cfg.auto_scale_lr = dict(enable=False, base_batch_size=16)\n",
    "\n",
    "cfg.model.query_head.num_classes = 10\n",
    "cfg.model.roi_head.bbox_head.num_classes = 10\n",
    "cfg.model.bbox_head.num_classes = 10\n",
    "\n",
    "cfg.optimizer_config.grad_clip = dict(max_norm=35, norm_type=2)\n",
    "cfg.checkpoint_config = dict(max_keep_ckpts=3, interval=1)\n",
    "cfg.device = get_device()\n",
    "\n",
    "cfg.log_config.hooks = [\n",
    "    dict(type='TextLoggerHook'),\n",
    "    dict(type='MMDetWandbHook',\n",
    "         init_kwargs={'project': 'hanseungsoo63-naver'},\n",
    "         interval=10, #10step 마다 하나씩 기록\n",
    "         log_checkpoint=True,\n",
    "         log_checkpoint_metadata=True,\n",
    "         num_eval_images=100)]"
   ]
  },
  {
   "cell_type": "code",
   "execution_count": 3,
   "metadata": {},
   "outputs": [
    {
     "name": "stdout",
     "output_type": "stream",
     "text": [
      "loading annotations into memory...\n",
      "Done (t=0.22s)\n",
      "creating index...\n",
      "index created!\n"
     ]
    }
   ],
   "source": [
    "# build_dataset\n",
    "datasets = [build_dataset(cfg.data.train)]"
   ]
  },
  {
   "cell_type": "code",
   "execution_count": 4,
   "metadata": {},
   "outputs": [
    {
     "data": {
      "text/plain": [
       "\n",
       "CocoDataset Train dataset with number of images 4883, and instance counts: \n",
       "+-------------------+-------+---------------+-------+-----------------+-------+-------------+-------+--------------+-------+\n",
       "| category          | count | category      | count | category        | count | category    | count | category     | count |\n",
       "+-------------------+-------+---------------+-------+-----------------+-------+-------------+-------+--------------+-------+\n",
       "| 0 [General trash] | 3965  | 1 [Paper]     | 6352  | 2 [Paper pack]  | 897   | 3 [Metal]   | 936   | 4 [Glass]    | 982   |\n",
       "| 5 [Plastic]       | 2943  | 6 [Styrofoam] | 1263  | 7 [Plastic bag] | 5178  | 8 [Battery] | 159   | 9 [Clothing] | 468   |\n",
       "+-------------------+-------+---------------+-------+-----------------+-------+-------------+-------+--------------+-------+"
      ]
     },
     "execution_count": 4,
     "metadata": {},
     "output_type": "execute_result"
    }
   ],
   "source": [
    "# dataset 확인\n",
    "datasets[0]"
   ]
  },
  {
   "cell_type": "code",
   "execution_count": null,
   "metadata": {},
   "outputs": [],
   "source": [
    "# 모델 build 및 pretrained network 불러오기\n",
    "model = build_detector(cfg.model)\n",
    "model.init_weights()"
   ]
  },
  {
   "cell_type": "code",
   "execution_count": null,
   "metadata": {},
   "outputs": [],
   "source": [
    "# 모델 학습\n",
    "train_detector(model, datasets[0], cfg, distributed=False, validate=False)"
   ]
  },
  {
   "cell_type": "code",
   "execution_count": 2,
   "metadata": {},
   "outputs": [],
   "source": [
    "import pickle\n",
    "import pandas as pd\n",
    "from pandas import DataFrame\n",
    "from pycocotools.coco import COCO\n",
    "import os\n",
    "\n",
    "\n",
    "# pkl 파일을 열고 객체를 불러오는 함수\n",
    "def load_pickle(file_path):\n",
    "    with open(file_path, 'rb') as f:  # 'rb'는 바이너리 읽기 모드\n",
    "        data = pickle.load(f)  # pickle.load를 사용해 파일 내용 불러오기\n",
    "    return data\n",
    "\n",
    "# 예시: 'example.pkl' 파일을 불러오기\n",
    "file_path = '/data/ephemeral/home/mmdetection/result_ddq_swinl_eval.pkl'\n",
    "loaded_data = load_pickle(file_path)"
   ]
  },
  {
   "cell_type": "code",
   "execution_count": 13,
   "metadata": {},
   "outputs": [
    {
     "name": "stdout",
     "output_type": "stream",
     "text": [
      "loading annotations into memory...\n",
      "Done (t=0.05s)\n",
      "creating index...\n",
      "index created!\n"
     ]
    },
    {
     "data": {
      "text/html": [
       "<div>\n",
       "<style scoped>\n",
       "    .dataframe tbody tr th:only-of-type {\n",
       "        vertical-align: middle;\n",
       "    }\n",
       "\n",
       "    .dataframe tbody tr th {\n",
       "        vertical-align: top;\n",
       "    }\n",
       "\n",
       "    .dataframe thead th {\n",
       "        text-align: right;\n",
       "    }\n",
       "</style>\n",
       "<table border=\"1\" class=\"dataframe\">\n",
       "  <thead>\n",
       "    <tr style=\"text-align: right;\">\n",
       "      <th></th>\n",
       "      <th>PredictionString</th>\n",
       "      <th>image_id</th>\n",
       "    </tr>\n",
       "  </thead>\n",
       "  <tbody>\n",
       "    <tr>\n",
       "      <th>0</th>\n",
       "      <td>0 0.5840889811515808 196.74127197265625 191.33...</td>\n",
       "      <td>train/0000.jpg</td>\n",
       "    </tr>\n",
       "    <tr>\n",
       "      <th>1</th>\n",
       "      <td>4 0.5516769886016846 737.1624755859375 314.921...</td>\n",
       "      <td>train/0001.jpg</td>\n",
       "    </tr>\n",
       "    <tr>\n",
       "      <th>2</th>\n",
       "      <td>3 0.7258724570274353 273.0506286621094 158.043...</td>\n",
       "      <td>train/0002.jpg</td>\n",
       "    </tr>\n",
       "    <tr>\n",
       "      <th>3</th>\n",
       "      <td>2 0.6757146716117859 461.41192626953125 367.85...</td>\n",
       "      <td>train/0003.jpg</td>\n",
       "    </tr>\n",
       "    <tr>\n",
       "      <th>4</th>\n",
       "      <td>1 0.44167715311050415 486.08514404296875 459.0...</td>\n",
       "      <td>train/0004.jpg</td>\n",
       "    </tr>\n",
       "  </tbody>\n",
       "</table>\n",
       "</div>"
      ],
      "text/plain": [
       "                                    PredictionString        image_id\n",
       "0  0 0.5840889811515808 196.74127197265625 191.33...  train/0000.jpg\n",
       "1  4 0.5516769886016846 737.1624755859375 314.921...  train/0001.jpg\n",
       "2  3 0.7258724570274353 273.0506286621094 158.043...  train/0002.jpg\n",
       "3  2 0.6757146716117859 461.41192626953125 367.85...  train/0003.jpg\n",
       "4  1 0.44167715311050415 486.08514404296875 459.0...  train/0004.jpg"
      ]
     },
     "execution_count": 13,
     "metadata": {},
     "output_type": "execute_result"
    }
   ],
   "source": [
    "\n",
    "# submission 양식에 맞게 output 후처리\n",
    "prediction_strings = []\n",
    "file_names = []\n",
    "coco = COCO('../dataset/evaluation_nonannot.json')\n",
    "img_ids = coco.getImgIds()\n",
    "epoch = 'ddq_eval'\n",
    "work_dir = './work_dirs/ddq_train/20241011_121636'\n",
    "\n",
    "class_num = 10\n",
    "for i, out in zip(img_ids,loaded_data):\n",
    "    prediction_string = ''\n",
    "    image_info = coco.loadImgs(coco.getImgIds(imgIds=i))[0]\n",
    "    box_num = sum(out['pred_instances']['scores']>0.1)\n",
    "    for o in range(box_num):\n",
    "        label, box, score = out['pred_instances'].values()\n",
    "        prediction_string += str(label[o].item()) + ' ' + str(score[o].item()) + ' ' + str(box[o][0].item()) + ' ' + str(box[o][1].item()) + ' ' + str(box[o][2].item()) + ' ' + str(box[o][3].item()) + ' '\n",
    "    prediction_strings.append(prediction_string)\n",
    "    file_names.append(image_info['file_name'])\n",
    "\n",
    "\n",
    "submission = pd.DataFrame()\n",
    "submission['PredictionString'] = prediction_strings\n",
    "submission['image_id'] = file_names\n",
    "submission.to_csv(os.path.join(work_dir, f'submission_{epoch}.csv'), index=None)\n",
    "submission.head()"
   ]
  },
  {
   "cell_type": "code",
   "execution_count": 123,
   "metadata": {},
   "outputs": [
    {
     "name": "stdout",
     "output_type": "stream",
     "text": [
      "Saved 50 annotations to ../dataset/test_50_annotations.json\n"
     ]
    }
   ],
   "source": [
    "import json\n",
    "\n",
    "# 원본 COCO test.json 파일 경로\n",
    "input_json_path = '../dataset/test.json'\n",
    "\n",
    "# 새로운 json 파일 경로 (50개 annotation만 포함)\n",
    "output_json_path = '../dataset/test_50_annotations.json'\n",
    "\n",
    "# COCO 형식의 test.json 파일 읽기\n",
    "with open(input_json_path, 'r') as f:\n",
    "    coco_data = json.load(f)\n",
    "\n",
    "# annotations의 상위 50개 항목만 선택\n",
    "coco_data['images'] = coco_data['images'][:50]\n",
    "\n",
    "# 관련 이미지 및 카테고리만 남기기 위한 필터링\n",
    "annotation_image_ids = {ann['id'] for ann in coco_data['images']}\n",
    "\n",
    "# 해당 annotation과 관련된 image들만 남김\n",
    "coco_data['annotations'] = [img for img in coco_data['annotations'] if img['id'] in annotation_image_ids]\n",
    "\n",
    "# 선택된 annotation의 카테고리들만 남김\n",
    "annotation_category_ids = {ann['category_id'] for ann in coco_data['annotations']}\n",
    "coco_data['categories'] = [cat for cat in coco_data['categories'] if cat['id'] in annotation_category_ids]\n",
    "\n",
    "# 50개 annotation만 포함된 새로운 json 파일 저장\n",
    "with open(output_json_path, 'w') as f:\n",
    "    json.dump(coco_data, f, indent=4)\n",
    "\n",
    "print(f\"Saved 50 annotations to {output_json_path}\")"
   ]
  },
  {
   "cell_type": "code",
   "execution_count": 124,
   "metadata": {},
   "outputs": [
    {
     "name": "stdout",
     "output_type": "stream",
     "text": [
      "loading annotations into memory...\n",
      "Done (t=0.10s)\n",
      "creating index...\n",
      "index created!\n",
      "Processed 100 images\n",
      "Processed 200 images\n",
      "Processed 300 images\n",
      "Processed 400 images\n",
      "Processed 500 images\n",
      "Processed 600 images\n",
      "Processed 700 images\n",
      "Processed 1100 images\n",
      "Processed 1200 images\n",
      "Processed 1300 images\n",
      "Processed 1400 images\n",
      "Processed 1500 images\n",
      "Processed 1600 images\n",
      "Processed 1700 images\n",
      "Processed 1800 images\n",
      "Processed 1900 images\n",
      "Processed 2000 images\n",
      "Processed 2200 images\n",
      "Processed 2300 images\n",
      "Processed 2400 images\n",
      "Processed 2500 images\n",
      "Processed 2700 images\n",
      "Processed 2800 images\n",
      "Processed 2900 images\n",
      "Processed 3000 images\n",
      "Processed 3200 images\n",
      "Processed 3300 images\n",
      "Processed 3500 images\n",
      "Processed 3600 images\n",
      "Processed 3700 images\n",
      "Processed 3800 images\n",
      "Processed 3900 images\n",
      "Processed 4000 images\n",
      "Processed 4100 images\n",
      "Processed 4200 images\n",
      "Processed 4300 images\n",
      "Processed 4400 images\n",
      "Processed 4500 images\n",
      "Processed 4600 images\n",
      "Processed 4700 images\n",
      "Processed 4800 images\n"
     ]
    }
   ],
   "source": [
    "from pycocotools.coco import COCO\n",
    "import cv2\n",
    "import numpy as np\n",
    "import matplotlib.pyplot as plt\n",
    "\n",
    "classes = {0:\"general trash\",1:\"Paper\",2:\"Paper pack\",3:\"Metal\",4:\"Glass\",5:\"Plastic\",6:\"Styrofoam\",7:\"Plastic bag\",8:\"Battery\",9:\"Clothing\"}\n",
    "output_dir = 'results/ddq_eval0'\n",
    "os.makedirs(output_dir, exist_ok=True)\n",
    "\n",
    "def visulize(img_info,pred,gt,data_root='../dataset',threshold=0.3):\n",
    "    file_name = os.path.join(data_root,img_info['file_name'])\n",
    "    img = np.array(cv2.imread(file_name))\n",
    "    if img is None:\n",
    "        print(f\"Unable to read image: {file_name}\")\n",
    "    \n",
    "    thresholds = pred['pred_instances']['scores']>threshold\n",
    "    labels = pred['pred_instances']['labels'][thresholds]\n",
    "    boxes = pred['pred_instances']['bboxes'][thresholds]\n",
    "    confidences = pred['pred_instances']['scores'][thresholds]\n",
    "\n",
    "    for label,k,confidence in zip(labels,boxes,confidences):\n",
    "        label_num = int(label)  # 첫 번째 요소를 라벨로 사용\n",
    "        label = classes[label_num]\n",
    "        confidence = float(confidence)  # 두 번째 요소를 신뢰도로 사용\n",
    "        pt1 = (int(float(k[0])), int(float(k[1])))\n",
    "        pt2 = (int(float(k[2])), int(float(k[3])))\n",
    "        \n",
    "        # 바운딩 박스 그리기\n",
    "        cv2.rectangle(img, pt1, pt2, (0, 255, 0), 2)\n",
    "        \n",
    "        # 라벨 텍스트 준비\n",
    "        label_text = f\"{label}: {confidence:.2f}\"\n",
    "        \n",
    "        # 라벨 배경 크기 계산\n",
    "        text_size = cv2.getTextSize(label_text, cv2.FONT_HERSHEY_SIMPLEX, 0.5, 2)[0]\n",
    "        \n",
    "        # 라벨 배경 그리기\n",
    "        cv2.rectangle(img, \n",
    "                    (pt1[0], pt1[1] - text_size[1] - 4), \n",
    "                    (pt1[0] + text_size[0], pt1[1]), \n",
    "                    (0, 255, 0), \n",
    "                    -1)\n",
    "        \n",
    "        # 라벨 텍스트 그리기\n",
    "        cv2.putText(img, label_text, \n",
    "                    (pt1[0], pt1[1] - 5),\n",
    "                    cv2.FONT_HERSHEY_SIMPLEX, 0.5, (0, 0, 0), 2)\n",
    "\n",
    "    for bbox in gt:\n",
    "        x_min = int(bbox[0])\n",
    "        y_min = int(bbox[1])\n",
    "        x_max = int(bbox[0]+bbox[2])\n",
    "        y_max = int(bbox[1]+bbox[3])\n",
    "        cv2.rectangle(img, (x_min, y_min), (x_max, y_max), (256, 0, 0), 2)\n",
    "\n",
    "    # 이미지 저장 (필요한 경우 주석 해제)\n",
    "    i = image_info['id']\n",
    "    output_path = os.path.join(output_dir, f'output_{i}.png')\n",
    "    cv2.imwrite(output_path, img)\n",
    "    \n",
    "\n",
    "    \n",
    "\n",
    "coco = COCO('../dataset/evaluation_annot.json')\n",
    "img_ids = coco.getImgIds()\n",
    "for id, out in zip(img_ids,loaded_data):\n",
    "    image_info = coco.loadImgs(coco.getImgIds(imgIds=id))[0]\n",
    "    gt_boxes = []\n",
    "    for i in coco.getAnnIds(imgIds=id):\n",
    "        anns = coco.loadAnns(ids = i)\n",
    "        gt_boxes.append(anns[0]['bbox'])\n",
    "    visulize(image_info,out,gt_boxes,threshold=0.2)\n",
    "# 진행 상황 출력 (100개마다)\n",
    "    if (id + 1) % 100 == 0:\n",
    "        print(f\"Processed {id + 1} images\")"
   ]
  },
  {
   "cell_type": "code",
   "execution_count": 10,
   "metadata": {},
   "outputs": [],
   "source": [
    "def compute_iou(pred_box, gt_box):\n",
    "    # pred_box and gt_box are [x_min, y_min, x_max, y_max]\n",
    "    gt_box[0] = float(gt_box[0])\n",
    "    gt_box[1] = float(gt_box[1])\n",
    "    gt_box_x_max = float(gt_box[0]+gt_box[2])\n",
    "    gt_box_y_max = float(gt_box[1]+gt_box[3])\n",
    "    \n",
    "    # Intersection coordinates\n",
    "    x_min = max(float(pred_box[0]), gt_box[0])\n",
    "    y_min = max(float(pred_box[1]), gt_box[1])\n",
    "    x_max = min(float(pred_box[2]), gt_box_x_max)\n",
    "    y_max = min(float(pred_box[3]), gt_box_y_max)\n",
    "    \n",
    "    # Intersection area\n",
    "    intersection = max(0, x_max - x_min) * max(0, y_max - y_min)\n",
    "    \n",
    "    # Predicted box area and Ground truth box area\n",
    "    pred_area = (pred_box[2] - pred_box[0]) * (pred_box[3] - pred_box[1])\n",
    "    gt_area = (gt_box_x_max - gt_box[0]) * (gt_box_y_max - gt_box[1])\n",
    "    \n",
    "    # Union area\n",
    "    union = pred_area + gt_area - intersection\n",
    "    \n",
    "    # IoU calculation\n",
    "    iou = intersection / union if union != 0 else 0\n",
    "    return iou\n",
    "\n",
    "def compute_precision_recall(pred_boxes, gt_boxes, iou_threshold=0.5):\n",
    "    tp, fp, fn = 0, 0, 0\n",
    "    matched_gt = set()  # To keep track of matched ground truth boxes\n",
    "    \n",
    "    for pred_box in pred_boxes:\n",
    "        best_iou = 0\n",
    "        best_gt_idx = -1\n",
    "        \n",
    "        for i, gt_box in enumerate(gt_boxes):\n",
    "            iou = compute_iou(pred_box, gt_box)\n",
    "            if iou > best_iou and iou >= iou_threshold and i not in matched_gt:\n",
    "                best_iou = iou\n",
    "                best_gt_idx = i\n",
    "        \n",
    "        if best_gt_idx >= 0:\n",
    "            tp += 1  # True positive\n",
    "            matched_gt.add(best_gt_idx)\n",
    "        else:\n",
    "            fp += 1  # False positive\n",
    "    \n",
    "    # Remaining unmatched ground truth boxes are false negatives\n",
    "    fn = len(gt_boxes) - len(matched_gt)\n",
    "    \n",
    "    precision = tp / (tp + fp) if (tp + fp) > 0 else 0\n",
    "    recall = tp / (tp + fn) if (tp + fn) > 0 else 0\n",
    "    \n",
    "    return precision, recall\n",
    "\n",
    "def compute_average_precision(precisions, recalls):\n",
    "    # Sort by recall\n",
    "    recalls, precisions = zip(*sorted(zip(recalls, precisions)))\n",
    "\n",
    "    ap = 0\n",
    "    prev_recall = 0\n",
    "    for p, r in zip(precisions, recalls):\n",
    "        ap += p * (r - prev_recall)\n",
    "        prev_recall = r\n",
    "    \n",
    "    return ap\n",
    "\n",
    "def calculate_map(pred_boxes_list, gt_boxes_list, iou_threshold=0.5):\n",
    "    all_precisions = []\n",
    "    all_recalls = []\n",
    "\n",
    "    for pred_boxes, gt_boxes in zip(pred_boxes_list, gt_boxes_list):\n",
    "        precision, recall = compute_precision_recall(pred_boxes, gt_boxes, iou_threshold)\n",
    "        all_precisions.append(precision)\n",
    "        all_recalls.append(recall)\n",
    "    mAP = compute_average_precision(all_precisions,all_recalls)\n",
    "    return precision,recall, mAP\n"
   ]
  },
  {
   "cell_type": "code",
   "execution_count": 11,
   "metadata": {},
   "outputs": [
    {
     "name": "stdout",
     "output_type": "stream",
     "text": [
      "loading annotations into memory...\n",
      "Done (t=0.10s)\n",
      "creating index...\n",
      "index created!\n"
     ]
    }
   ],
   "source": [
    "coco = COCO('../dataset/evaluation_annot.json')\n",
    "img_ids = coco.getImgIds()\n",
    "maps = []\n",
    "ps = []\n",
    "rs = []\n",
    "cs = []\n",
    "iou_threshold=0.5\n",
    "for id, out in zip(img_ids,loaded_data):\n",
    "    image_info = coco.loadImgs(coco.getImgIds(imgIds=id))[0]\n",
    "    gt_boxes = []\n",
    "    for i in coco.getAnnIds(imgIds=id):\n",
    "        anns = coco.loadAnns(ids = i)\n",
    "        gt_boxes.append(anns[0]['bbox'])\n",
    "    thresholds = out['pred_instances']['scores']>0.2\n",
    "    boxes = out['pred_instances']['bboxes'][thresholds]\n",
    "    p,r,c = calculate_map([boxes],[gt_boxes],iou_threshold)\n",
    "    ps.append(p)\n",
    "    rs.append(r)\n",
    "    cs.append(c)"
   ]
  },
  {
   "cell_type": "code",
   "execution_count": 5,
   "metadata": {},
   "outputs": [
    {
     "name": "stdout",
     "output_type": "stream",
     "text": [
      "loading annotations into memory...\n",
      "Done (t=0.10s)\n",
      "creating index...\n",
      "index created!\n"
     ]
    }
   ],
   "source": [
    "coco = COCO('../dataset/evaluation_annot.json')\n",
    "img_ids = coco.getImgIds()\n",
    "maps = []\n",
    "ps = []\n",
    "rs = []\n",
    "boxess = []\n",
    "all_gts = []\n",
    "\n",
    "iou_threshold=0.5\n",
    "for id, out in zip(img_ids,loaded_data):\n",
    "    gt_boxes = []\n",
    "    image_info = coco.loadImgs(coco.getImgIds(imgIds=id))[0]\n",
    "    for i in coco.getAnnIds(imgIds=id):\n",
    "        anns = coco.loadAnns(ids = i)\n",
    "        gt_boxes.append(anns[0]['bbox'])\n",
    "    thresholds = out['pred_instances']['scores']>0.2\n",
    "    all_gts.append(gt_boxes)\n",
    "    boxess.append(out['pred_instances']['bboxes'][thresholds])\n",
    "mp,mc,mp = calculate_map(boxess,all_gts,iou_threshold)"
   ]
  },
  {
   "cell_type": "code",
   "execution_count": 12,
   "metadata": {},
   "outputs": [
    {
     "name": "stdout",
     "output_type": "stream",
     "text": [
      "712 872\n",
      "1567 1950\n",
      "1952 2429\n",
      "2846 3537\n",
      "3338 4150\n"
     ]
    }
   ],
   "source": [
    "for i,(p,r) in enumerate(zip(ps,rs)):\n",
    "    if p==0 and r==0:\n",
    "        print(i, img_ids[i])"
   ]
  },
  {
   "cell_type": "code",
   "execution_count": 14,
   "metadata": {},
   "outputs": [
    {
     "data": {
      "text/plain": [
       "{'image_id': 4881,\n",
       " 'category_id': 7,\n",
       " 'area': 202051.41,\n",
       " 'bbox': [151.4, 484.8, 540.1, 374.1],\n",
       " 'iscrowd': 0,\n",
       " 'id': 23138}"
      ]
     },
     "execution_count": 14,
     "metadata": {},
     "output_type": "execute_result"
    }
   ],
   "source": [
    "anns[0]['category_id']"
   ]
  },
  {
   "cell_type": "code",
   "execution_count": 14,
   "metadata": {},
   "outputs": [],
   "source": [
    "import seaborn as sns\n",
    "from sklearn.metrics import confusion_matrix\n",
    "import matplotlib.pyplot as plt\n",
    "\n",
    "def compute_iou(pred_box, gt_box):\n",
    "    # pred_box and gt_box are [x_min, y_min, x_max, y_max]\n",
    "    gt_box[0] = float(gt_box[0])\n",
    "    gt_box[1] = float(gt_box[1])\n",
    "    gt_box_x_max = float(gt_box[0]+gt_box[2])\n",
    "    gt_box_y_max = float(gt_box[1]+gt_box[3])\n",
    "    \n",
    "    # Intersection coordinates\n",
    "    x_min = max(float(pred_box[0]), gt_box[0])\n",
    "    y_min = max(float(pred_box[1]), gt_box[1])\n",
    "    x_max = min(float(pred_box[2]), gt_box_x_max)\n",
    "    y_max = min(float(pred_box[3]), gt_box_y_max)\n",
    "    \n",
    "    # Intersection area\n",
    "    intersection = max(0, x_max - x_min) * max(0, y_max - y_min)\n",
    "    \n",
    "    # Predicted box area and Ground truth box area\n",
    "    pred_area = (pred_box[2] - pred_box[0]) * (pred_box[3] - pred_box[1])\n",
    "    gt_area = (gt_box_x_max - gt_box[0]) * (gt_box_y_max - gt_box[1])\n",
    "    \n",
    "    # Union area\n",
    "    union = pred_area + gt_area - intersection\n",
    "    \n",
    "    # IoU calculation\n",
    "    iou = intersection / union if union != 0 else 0\n",
    "    return iou\n",
    "\n",
    "def compute_labels(pred_boxes, gt_boxes, pred_labels, gt_labels, iou_threshold=0.5):\n",
    "    pred,target = [],[]\n",
    "    matched_gt = set()  # To keep track of matched ground truth boxes\n",
    "    \n",
    "    for i, gt_box in enumerate(gt_boxes):\n",
    "        best_iou = 0\n",
    "        best_gt_idx = -1\n",
    "        \n",
    "        for j, pred_box in enumerate(pred_boxes):\n",
    "            iou = compute_iou(pred_box, gt_box)\n",
    "            if iou > best_iou and iou >= iou_threshold and i not in matched_gt:\n",
    "                best_iou = iou\n",
    "                best_gt_idx = i\n",
    "                best_pred_idx = j\n",
    "        \n",
    "        if best_gt_idx >= 0:\n",
    "            pred.append(pred_labels[best_pred_idx])\n",
    "            target.append(gt_labels[best_gt_idx])\n",
    "            matched_gt.add(best_gt_idx)\n",
    "\n",
    "    return pred, target\n",
    "\n",
    "def show_confusion_matrix(y_true,y_pred):\n",
    "    cm = confusion_matrix(y_true, y_pred)\n",
    "    classes = [\"General trash\", \"Paper\", \"Paper pack\", \"Metal\", \"Glass\", \n",
    "           \"Plastic\", \"Styrofoam\", \"Plastic bag\", \"Battery\", \"Clothing\"]\n",
    "    # 시각화\n",
    "    plt.figure(figsize=(10, 8))\n",
    "    sns.heatmap(cm, annot=True, fmt='d', cmap='Blues', cbar=False, \n",
    "                xticklabels=[classes[i] for i in range(10)], \n",
    "                yticklabels=[classes[i] for i in range(10)])\n",
    "    plt.xlabel('Predicted Labels')\n",
    "    plt.ylabel('True Labels')\n",
    "    plt.title('Confusion Matrix for Multi-Class Classification')\n",
    "    plt.show()\n",
    "\n",
    "def calculate_confusion_matrix(pred_boxes_list, gt_boxes_list, pred_labels_list,gt_labels_list,iou_threshold=0.5):\n",
    "    all_preds = []\n",
    "    all_targets = []\n",
    "\n",
    "    for pred_boxes, gt_boxes, pred_labels, gt_labels in zip(pred_boxes_list, gt_boxes_list, pred_labels_list, gt_labels_list):\n",
    "        precision, recall = compute_labels(pred_boxes, gt_boxes, pred_labels, gt_labels, iou_threshold)\n",
    "        all_preds.extend(precision)\n",
    "        all_targets.extend(recall)\n",
    "    show_confusion_matrix(all_preds,all_targets)\n",
    "\n",
    "\n"
   ]
  },
  {
   "cell_type": "code",
   "execution_count": 15,
   "metadata": {},
   "outputs": [
    {
     "name": "stdout",
     "output_type": "stream",
     "text": [
      "loading annotations into memory...\n",
      "Done (t=0.11s)\n",
      "creating index...\n",
      "index created!\n"
     ]
    },
    {
     "data": {
      "image/png": "[encoded data removed]",
      "text/plain": [
       "<Figure size 1000x800 with 1 Axes>"
      ]
     },
     "metadata": {},
     "output_type": "display_data"
    }
   ],
   "source": [
    "coco = COCO('../dataset/evaluation_annot.json')\n",
    "img_ids = coco.getImgIds()\n",
    "trues = []\n",
    "preds = []\n",
    "preds_labels = []\n",
    "true_labels = []\n",
    "true_boxes = []\n",
    "iou_threshold=0.5\n",
    "for id, out in zip(img_ids,loaded_data):\n",
    "    image_info = coco.loadImgs(coco.getImgIds(imgIds=id))[0]\n",
    "    gt_boxes = []\n",
    "    gt_labels = []\n",
    "    for i in coco.getAnnIds(imgIds=id):\n",
    "        anns = coco.loadAnns(ids = i)\n",
    "        gt_boxes.append(anns[0]['bbox'])\n",
    "        gt_labels.append(anns[0]['category_id'])\n",
    "    thresholds = out['pred_instances']['scores']>0.2\n",
    "    labels = out['pred_instances']['labels'][thresholds]\n",
    "    boxes = out['pred_instances']['bboxes'][thresholds]\n",
    "\n",
    "    true_labels.append(gt_labels)\n",
    "    true_boxes.append(gt_boxes)\n",
    "    preds_labels.append(labels)\n",
    "    preds.append(boxes)\n",
    "calculate_confusion_matrix(preds,true_boxes,preds_labels,true_labels)"
   ]
  },
  {
   "cell_type": "code",
   "execution_count": null,
   "metadata": {},
   "outputs": [],
   "source": []
  },
  {
   "cell_type": "code",
   "execution_count": null,
   "metadata": {},
   "outputs": [],
   "source": []
  },
  {
   "cell_type": "code",
   "execution_count": 58,
   "metadata": {},
   "outputs": [
    {
     "ename": "ModuleNotFoundError",
     "evalue": "No module named 'copy_paste'",
     "output_type": "error",
     "traceback": [
      "\u001b[0;31m---------------------------------------------------------------------------\u001b[0m",
      "\u001b[0;31mModuleNotFoundError\u001b[0m                       Traceback (most recent call last)",
      "Cell \u001b[0;32mIn[58], line 1\u001b[0m\n\u001b[0;32m----> 1\u001b[0m \u001b[38;5;28;01mfrom\u001b[39;00m \u001b[38;5;21;01mcopy_paste\u001b[39;00m \u001b[38;5;28;01mimport\u001b[39;00m copy_paste_class\n",
      "\u001b[0;31mModuleNotFoundError\u001b[0m: No module named 'copy_paste'"
     ]
    }
   ],
   "source": [
    "from copy_paste import copy_paste_class"
   ]
  }
 ],
 "metadata": {
  "kernelspec": {
   "display_name": "base",
   "language": "python",
   "name": "python3"
  },
  "language_info": {
   "codemirror_mode": {
    "name": "ipython",
    "version": 3
   },
   "file_extension": ".py",
   "mimetype": "text/x-python",
   "name": "python",
   "nbconvert_exporter": "python",
   "pygments_lexer": "ipython3",
   "version": "3.10.13"
  }
 },
 "nbformat": 4,
 "nbformat_minor": 4
}
