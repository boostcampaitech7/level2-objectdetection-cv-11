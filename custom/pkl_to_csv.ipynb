{
 "cells": [
  {
   "cell_type": "code",
   "execution_count": 1,
   "metadata": {},
   "outputs": [],
   "source": [
    "import pickle\n",
    "import pandas as pd\n",
    "from pandas import DataFrame\n",
    "from pycocotools.coco import COCO\n",
    "import os\n",
    "\n",
    "\n",
    "# pkl 파일을 열고 객체를 불러오는 함수\n",
    "def load_pickle(file_path):\n",
    "    with open(file_path, 'rb') as f:  # 'rb'는 바이너리 읽기 모드\n",
    "        data = pickle.load(f)  # pickle.load를 사용해 파일 내용 불러오기\n",
    "    return data\n",
    "\n",
    "# 예시: 'example.pkl' 파일을 불러오기\n",
    "file_path = '/data/ephemeral/home/mmdetection/result_customcopypaste.pkl'\n",
    "loaded_data = load_pickle(file_path)"
   ]
  },
  {
   "cell_type": "code",
   "execution_count": 3,
   "metadata": {},
   "outputs": [
    {
     "data": {
      "text/plain": [
       "dict_keys(['bboxes', 'labels', 'scores'])"
      ]
     },
     "execution_count": 3,
     "metadata": {},
     "output_type": "execute_result"
    }
   ],
   "source": [
    "loaded_data[0]['pred_instances'].keys()"
   ]
  },
  {
   "cell_type": "code",
   "execution_count": 4,
   "metadata": {},
   "outputs": [
    {
     "name": "stdout",
     "output_type": "stream",
     "text": [
      "loading annotations into memory...\n",
      "Done (t=0.01s)\n",
      "creating index...\n",
      "index created!\n"
     ]
    },
    {
     "data": {
      "text/html": [
       "<div>\n",
       "<style scoped>\n",
       "    .dataframe tbody tr th:only-of-type {\n",
       "        vertical-align: middle;\n",
       "    }\n",
       "\n",
       "    .dataframe tbody tr th {\n",
       "        vertical-align: top;\n",
       "    }\n",
       "\n",
       "    .dataframe thead th {\n",
       "        text-align: right;\n",
       "    }\n",
       "</style>\n",
       "<table border=\"1\" class=\"dataframe\">\n",
       "  <thead>\n",
       "    <tr style=\"text-align: right;\">\n",
       "      <th></th>\n",
       "      <th>PredictionString</th>\n",
       "      <th>image_id</th>\n",
       "    </tr>\n",
       "  </thead>\n",
       "  <tbody>\n",
       "    <tr>\n",
       "      <th>0</th>\n",
       "      <td>7 0.9483472108840942 117.74851989746094 422.93...</td>\n",
       "      <td>test/0000.jpg</td>\n",
       "    </tr>\n",
       "    <tr>\n",
       "      <th>1</th>\n",
       "      <td>5 0.8987105488777161 344.8763732910156 247.188...</td>\n",
       "      <td>test/0001.jpg</td>\n",
       "    </tr>\n",
       "    <tr>\n",
       "      <th>2</th>\n",
       "      <td>6 0.8856922388076782 308.16180419921875 308.28...</td>\n",
       "      <td>test/0002.jpg</td>\n",
       "    </tr>\n",
       "    <tr>\n",
       "      <th>3</th>\n",
       "      <td>9 0.6590785980224609 146.38571166992188 252.99...</td>\n",
       "      <td>test/0003.jpg</td>\n",
       "    </tr>\n",
       "    <tr>\n",
       "      <th>4</th>\n",
       "      <td>0 0.5865663886070251 192.6427459716797 253.341...</td>\n",
       "      <td>test/0004.jpg</td>\n",
       "    </tr>\n",
       "  </tbody>\n",
       "</table>\n",
       "</div>"
      ],
      "text/plain": [
       "                                    PredictionString       image_id\n",
       "0  7 0.9483472108840942 117.74851989746094 422.93...  test/0000.jpg\n",
       "1  5 0.8987105488777161 344.8763732910156 247.188...  test/0001.jpg\n",
       "2  6 0.8856922388076782 308.16180419921875 308.28...  test/0002.jpg\n",
       "3  9 0.6590785980224609 146.38571166992188 252.99...  test/0003.jpg\n",
       "4  0 0.5865663886070251 192.6427459716797 253.341...  test/0004.jpg"
      ]
     },
     "execution_count": 4,
     "metadata": {},
     "output_type": "execute_result"
    }
   ],
   "source": [
    "# submission 양식에 맞게 output 후처리\n",
    "prediction_strings = []\n",
    "file_names = []\n",
    "coco = COCO('../dataset/test.json')\n",
    "img_ids = coco.getImgIds()\n",
    "epoch = 'yolox_customcopypaste'\n",
    "work_dir = './work_dirs/experiment_inference/20241016_230612'\n",
    "\n",
    "class_num = 10\n",
    "for i, out in zip(img_ids,loaded_data):\n",
    "    prediction_string = ''\n",
    "    image_info = coco.loadImgs(coco.getImgIds(imgIds=i))[0]\n",
    "    box_num = sum(out['pred_instances']['scores']>0.1)\n",
    "    for o in range(box_num):\n",
    "        box, label, score   = out['pred_instances'].values()\n",
    "        prediction_string += str(label[o].item()) + ' ' + str(score[o].item()) + ' ' + str(box[o][0].item()) + ' ' + str(box[o][1].item()) + ' ' + str(box[o][2].item()) + ' ' + str(box[o][3].item()) + ' '\n",
    "    prediction_strings.append(prediction_string)\n",
    "    file_names.append(image_info['file_name'])\n",
    "\n",
    "\n",
    "submission = pd.DataFrame()\n",
    "submission['PredictionString'] = prediction_strings\n",
    "submission['image_id'] = file_names\n",
    "submission.to_csv(os.path.join(work_dir, f'submission_{epoch}.csv'), index=None)\n",
    "submission.head()"
   ]
  },
  {
   "cell_type": "code",
   "execution_count": null,
   "metadata": {},
   "outputs": [],
   "source": []
  }
 ],
 "metadata": {
  "kernelspec": {
   "display_name": "base",
   "language": "python",
   "name": "python3"
  },
  "language_info": {
   "codemirror_mode": {
    "name": "ipython",
    "version": 3
   },
   "file_extension": ".py",
   "mimetype": "text/x-python",
   "name": "python",
   "nbconvert_exporter": "python",
   "pygments_lexer": "ipython3",
   "version": "3.10.13"
  }
 },
 "nbformat": 4,
 "nbformat_minor": 4
}
